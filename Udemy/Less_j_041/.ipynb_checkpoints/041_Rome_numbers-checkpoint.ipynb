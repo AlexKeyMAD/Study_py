{
 "cells": [
  {
   "cell_type": "code",
   "execution_count": 1,
   "metadata": {},
   "outputs": [
    {
     "name": "stdout",
     "output_type": "stream",
     "text": [
      "Переводчик с римской системы исчисления в арабскую.\n",
      "Введите римские цифры: CXL\n",
      "Римское число CXL - это 140 по арабски\n"
     ]
    }
   ],
   "source": [
    "print('Переводчик с римской системы исчисления в арабскую.')\n",
    "\n",
    "tab_rome_arab_num = {\n",
    "    'I':1,\n",
    "    'V':5,\n",
    "    'X':10,\n",
    "    'L':50,\n",
    "    'C':100,\n",
    "    'D':500,\n",
    "    'M':1000\n",
    "}\n",
    "\n",
    "def resulting_number(str_num):\n",
    "\n",
    "    return_number = tab_rome_arab_num.get(str_num,0)\n",
    "\n",
    "    if return_number == 0:\n",
    "        print(f'Символ {str_num} не соответствует римской системе исчисления')\n",
    "\n",
    "    return return_number\n",
    "\n",
    "def pars_numbers(rome_num):\n",
    "\n",
    "    num = 0\n",
    "    list_num = []\n",
    "    str_len = len(rome_num)\n",
    "\n",
    "    while num < str_len:\n",
    "\n",
    "        a = resulting_number(rome_num[num])\n",
    "\n",
    "        if num + 1 == str_len:\n",
    "            b = 0\n",
    "        else:\n",
    "            b = resulting_number(rome_num[num + 1])\n",
    "        \n",
    "        if a < b:\n",
    "            list_num.append(-a)\n",
    "        else:\n",
    "            list_num.append(a)        \n",
    "        \n",
    "        num += 1\n",
    "\n",
    "    return sum(list_num)\n",
    "\n",
    "def exchange_numbers(rome_num):\n",
    "\n",
    "    arab_num = pars_numbers(rome_num)\n",
    "    \n",
    "    print(f'Римское число {rome_num} - это {arab_num} по арабски')\n",
    "\n",
    "input_number = input('Введите римские цифры: ')\n",
    "\n",
    "exchange_numbers(input_number)"
   ]
  },
  {
   "cell_type": "code",
   "execution_count": null,
   "metadata": {},
   "outputs": [],
   "source": []
  }
 ],
 "metadata": {
  "kernelspec": {
   "display_name": "Python 3",
   "language": "python",
   "name": "python3"
  },
  "language_info": {
   "codemirror_mode": {
    "name": "ipython",
    "version": 3
   },
   "file_extension": ".py",
   "mimetype": "text/x-python",
   "name": "python",
   "nbconvert_exporter": "python",
   "pygments_lexer": "ipython3",
   "version": "3.7.3"
  }
 },
 "nbformat": 4,
 "nbformat_minor": 2
}
