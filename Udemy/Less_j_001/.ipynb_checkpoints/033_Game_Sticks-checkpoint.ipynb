{
 "cells": [
  {
   "cell_type": "code",
   "execution_count": 4,
   "metadata": {},
   "outputs": [
    {
     "name": "stdout",
     "output_type": "stream",
     "text": [
      "Добро пожаловать в игру \"Палочки\"\n",
      "Введите количество игроков (больше 1): 3\n",
      "Введите количество палочек (больше 14): 15\n",
      "Введите имя игрока №1: 1\n",
      "Введите имя игрока №2: 2\n",
      "Введите имя игрока №3: 3\n",
      "Игрок \"1\" возмите палочки (не больше 3, осталось 15 палочек): 4\n",
      "Введено некорректное число\n",
      "Игрок \"1\" возмите палочки (не больше 3, осталось 15 палочек): 3\n",
      "Игрок \"2\" возмите палочки (не больше 3, осталось 12 палочек): 3\n",
      "Игрок \"3\" возмите палочки (не больше 3, осталось 9 палочек): 3\n",
      "Игрок \"1\" возмите палочки (не больше 3, осталось 6 палочек): 3\n",
      "Игрок \"2\" возмите палочки (не больше 3, осталось 3 палочек): 1\n",
      "Игрок \"3\" возмите палочки (не больше 2, осталось 2 палочек): 1\n",
      "Игрок \"1\" возмите палочки (не больше 1, осталось 1 палочек): 0\n",
      "Введено некорректное число\n",
      "Игрок \"1\" возмите палочки (не больше 1, осталось 1 палочек): 1\n",
      "Игрок 1 проиграл\n"
     ]
    }
   ],
   "source": [
    "print('Добро пожаловать в игру \"Палочки\"')\n",
    "\n",
    "# Количество игроков\n",
    "num_players = 0\n",
    "\n",
    "while num_players < 2:\n",
    "    num_players = int(input('Введите количество игроков (больше 1): '))\n",
    "\n",
    "# Количество палочек\n",
    "\n",
    "sticks = 0\n",
    "min_sticks = num_players * 5\n",
    "\n",
    "while sticks < min_sticks:\n",
    "    sticks = int(input(f'Введите количество палочек (больше {min_sticks - 1}): '))\n",
    "\n",
    "# Список игроков\n",
    "index_player = 0\n",
    "\n",
    "list_players = []\n",
    "\n",
    "while index_player < num_players:\n",
    "    index_player += 1\n",
    "    \n",
    "    name = input(f'Введите имя игрока №{index_player}: ')\n",
    "    \n",
    "    list_players.append(name)\n",
    "    \n",
    "# Тело игры\n",
    "\n",
    "while sticks > 0:\n",
    "    \n",
    "    for player in list_players:\n",
    "        \n",
    "        player_stick = 0\n",
    "        \n",
    "        input_stick = False\n",
    "        \n",
    "        while input_stick == False:\n",
    "            \n",
    "            player_stick = int(input(f'Игрок \"{player}\" возмите палочки (не больше {min(3,sticks)}, осталось {sticks} палочек): '))\n",
    "            \n",
    "            if (player_stick > 0 and player_stick < 4) and (player_stick <= sticks):\n",
    "                input_stick = True\n",
    "            else:\n",
    "                input_stick = False\n",
    "                print('Введено некорректное число')\n",
    "            \n",
    "        sticks = sticks - player_stick\n",
    "        \n",
    "        if sticks == 0:\n",
    "            print(f'Игрок {player} проиграл')\n",
    "            break"
   ]
  },
  {
   "cell_type": "code",
   "execution_count": null,
   "metadata": {},
   "outputs": [],
   "source": []
  }
 ],
 "metadata": {
  "kernelspec": {
   "display_name": "Python 3",
   "language": "python",
   "name": "python3"
  },
  "language_info": {
   "codemirror_mode": {
    "name": "ipython",
    "version": 3
   },
   "file_extension": ".py",
   "mimetype": "text/x-python",
   "name": "python",
   "nbconvert_exporter": "python",
   "pygments_lexer": "ipython3",
   "version": "3.7.3"
  }
 },
 "nbformat": 4,
 "nbformat_minor": 2
}
