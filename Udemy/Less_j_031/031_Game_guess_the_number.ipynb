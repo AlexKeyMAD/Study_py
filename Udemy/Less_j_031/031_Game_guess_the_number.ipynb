{
 "cells": [
  {
   "cell_type": "code",
   "execution_count": 1,
   "metadata": {},
   "outputs": [],
   "source": [
    "# Game \"Guess the number\" / Игра \"Угадай число\""
   ]
  },
  {
   "cell_type": "code",
   "execution_count": 6,
   "metadata": {},
   "outputs": [
    {
     "name": "stdout",
     "output_type": "stream",
     "text": [
      "Игра \"Угадай число\"\n",
      "Введите число от 1 до 50:25\n",
      "Число больше загаданного\n",
      "Введите число от 1 до 50:15\n",
      "Число больше загаданного\n",
      "Введите число от 1 до 50:10\n",
      "Число больше загаданного\n",
      "Введите число от 1 до 50:5\n",
      "Число меньше загаданного\n",
      "Введите число от 1 до 50:7\n",
      "Число меньше загаданного\n",
      "Введите число от 1 до 50:8\n",
      "Число меньше загаданного\n",
      "Число не угадано за 6 попыток. Game Over. Загаданное число: 9\n"
     ]
    }
   ],
   "source": [
    "import random\n",
    "\n",
    "our_number = random.randint(1,50)\n",
    "\n",
    "life = 0\n",
    "\n",
    "print('Игра \"Угадай число\"')\n",
    "\n",
    "while life < 6:\n",
    "    \n",
    "    life+=1\n",
    "\n",
    "    user_number = int(input('Введите число от 1 до 50:'))\n",
    "\n",
    "    if user_number == our_number:\n",
    "        print(f'Число угадано, за {life} попыток')\n",
    "        break\n",
    "    else:\n",
    "        if user_number > our_number:\n",
    "            print('Число больше загаданного')\n",
    "        else:\n",
    "            print('Число меньше загаданного')\n",
    "\n",
    "    if life == 6:\n",
    "        print(f'Число не угадано за 6 попыток. Game Over. Загаданное число: {our_number}')\n",
    "        break"
   ]
  },
  {
   "cell_type": "code",
   "execution_count": null,
   "metadata": {},
   "outputs": [],
   "source": []
  }
 ],
 "metadata": {
  "kernelspec": {
   "display_name": "Python 3",
   "language": "python",
   "name": "python3"
  },
  "language_info": {
   "codemirror_mode": {
    "name": "ipython",
    "version": 3
   },
   "file_extension": ".py",
   "mimetype": "text/x-python",
   "name": "python",
   "nbconvert_exporter": "python",
   "pygments_lexer": "ipython3",
   "version": "3.7.3"
  }
 },
 "nbformat": 4,
 "nbformat_minor": 2
}
